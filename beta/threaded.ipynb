{
 "cells": [
  {
   "cell_type": "code",
   "execution_count": 1,
   "metadata": {},
   "outputs": [
    {
     "name": "stderr",
     "output_type": "stream",
     "text": [
      "/Library/Frameworks/Python.framework/Versions/3.10/lib/python3.10/site-packages/yfinance/base.py:48: FutureWarning: The default dtype for empty Series will be 'object' instead of 'float64' in a future version. Specify a dtype explicitly to silence this warning.\n",
      "  _empty_series = pd.Series()\n"
     ]
    }
   ],
   "source": [
    "from Screener import Screener\n",
    "import pandas as pd\n",
    "\n",
    "pd.set_option('display.float_format', lambda x: '%.3f' % x)\n",
    "\n",
    "path = '../data/cleaned_tickers.json'"
   ]
  },
  {
   "cell_type": "code",
   "execution_count": 2,
   "metadata": {},
   "outputs": [
    {
     "name": "stdout",
     "output_type": "stream",
     "text": [
      "4906 Tickers to be screened for step check \"Has Dividends or Buybacks\".\n"
     ]
    },
    {
     "name": "stderr",
     "output_type": "stream",
     "text": [
      "CARR.L: auto_adjust failed with unsupported operand type(s) for /: 'str' and 'float'\n"
     ]
    },
    {
     "name": "stdout",
     "output_type": "stream",
     "text": [
      "Processing: 50% complete\n",
      "Processing: 100% complete\n",
      "Time to check dividends: 0:26:01.826890\n",
      "2404 Tickers to be screened for step check \"Market Cap <= NCAV\".\n",
      "Time to check dividends: 0:26:25.747940\n",
      "Time to check dividends: 0:26:51.713189\n",
      "Processing: 25% complete\n",
      "Time to check dividends: 0:31:16.329559\n",
      "Processing: 50% complete\n",
      "Processing: 75% complete\n",
      "Processing: 100% complete\n",
      "Time to check Market Cap <= NCAV: 0:08:35.858956\n",
      "70 Tickers to be screened for step check \"Net Debt\".\n",
      "Time to check Net Debt: 0:00:14.838221\n",
      "55 Tickers to be screened for step check \"5Y average yield > 10%\".\n",
      "55 stocks to be screened at `__screen_five_year_yield`\n",
      "Time to check '5Y average yield > 10%': 0:00:19.868962\n",
      "Time to check Market Cap <= NCAV: 0:11:40.758105\n",
      "Time to check Net Debt: 0:00:06.479568\n",
      "23 stocks to be screened at `__screen_five_year_yield`\n",
      "Time to check '5Y average yield > 10%': 0:00:06.711701\n",
      "Time to check Market Cap <= NCAV: 0:16:28.313459\n",
      "Time to check Net Debt: 0:00:06.064537\n",
      "21 stocks to be screened at `__screen_five_year_yield`\n",
      "Time to check '5Y average yield > 10%': 0:00:06.098109\n",
      "Time to check Market Cap <= NCAV: 0:25:24.996798\n",
      "Time to check Net Debt: 0:00:50.076673\n",
      "155 stocks to be screened at `__screen_five_year_yield`\n",
      "Time to check '5Y average yield > 10%': 0:00:35.135254\n",
      "Calculating payback rating for 27 Stocks.\n",
      "18 stocks remaining.\n",
      "Total run time 0:53:41.957547\n"
     ]
    }
   ],
   "source": [
    "s = Screener(path)\n",
    "s.run_fully_threaded(thread_sum = 4, debug=True)"
   ]
  },
  {
   "cell_type": "code",
   "execution_count": 3,
   "metadata": {},
   "outputs": [
    {
     "data": {
      "text/plain": [
       "18"
      ]
     },
     "execution_count": 3,
     "metadata": {},
     "output_type": "execute_result"
    }
   ],
   "source": [
    "len(s.results)"
   ]
  },
  {
   "cell_type": "code",
   "execution_count": null,
   "metadata": {},
   "outputs": [],
   "source": [
    "s.results"
   ]
  },
  {
   "cell_type": "code",
   "execution_count": 4,
   "metadata": {},
   "outputs": [
    {
     "name": "stdout",
     "output_type": "stream",
     "text": [
      "File saved to ../output/fin_deux.xlsx\n"
     ]
    }
   ],
   "source": [
    "s.create_xlsx('../output/fin_deux.xlsx')"
   ]
  },
  {
   "cell_type": "code",
   "execution_count": 5,
   "metadata": {},
   "outputs": [
    {
     "name": "stdout",
     "output_type": "stream",
     "text": [
      "Sheet 10-Feb-2024 added.\n"
     ]
    }
   ],
   "source": [
    "s.sheet_client.create_new_tab()"
   ]
  },
  {
   "cell_type": "code",
   "execution_count": 6,
   "metadata": {},
   "outputs": [
    {
     "name": "stdout",
     "output_type": "stream",
     "text": [
      "0 tickers removed (previously present in google sheet).\n",
      "data added to spreadsheet.\n",
      "Google Sheet updated.\n"
     ]
    }
   ],
   "source": [
    "s.update_google_sheet(debug=True)"
   ]
  },
  {
   "cell_type": "code",
   "execution_count": 7,
   "metadata": {},
   "outputs": [
    {
     "data": {
      "text/plain": [
       "{'FORE.PA': {'Name': 'La Forestière Equatoriale SA',\n",
       "  'HQ Location': 'CI',\n",
       "  'Has Dividends or Buybacks': True,\n",
       "  'Net Debt': 183682.0,\n",
       "  'Cash & Equivalents': 14249475613,\n",
       "  '5Y average yield > 10%': 6229.28,\n",
       "  '5Y average': 5722621592.0,\n",
       "  'Market Cap <= NCAV': True,\n",
       "  'Market Capitalization': 99639800,\n",
       "  'NCAV Ratio': 0.0,\n",
       "  'Payback Rating': 0.5},\n",
       " 'WILC': {'Name': 'G. Willi-Food International Ltd.',\n",
       "  'HQ Location': 'IL',\n",
       "  'Has Dividends or Buybacks': True,\n",
       "  'Net Debt': 2926000.0,\n",
       "  'Cash & Equivalents': 150607000,\n",
       "  '5Y average yield > 10%': 18.17,\n",
       "  '5Y average': 24368200.0,\n",
       "  'Market Cap <= NCAV': True,\n",
       "  'Market Capitalization': 136035632,\n",
       "  'NCAV Ratio': 0.3,\n",
       "  'Payback Rating': 0.5},\n",
       " 'STCN': {'Name': 'Steel Connect, Inc.',\n",
       "  'HQ Location': 'US',\n",
       "  'Has Dividends or Buybacks': True,\n",
       "  'Net Debt': 38825000.0,\n",
       "  'Cash & Equivalents': 123403000,\n",
       "  '5Y average yield > 10%': 35.45,\n",
       "  '5Y average': 19220400.0,\n",
       "  'Market Cap <= NCAV': True,\n",
       "  'Market Capitalization': 56342380,\n",
       "  'NCAV Ratio': 0.3,\n",
       "  'Payback Rating': 0.5},\n",
       " '8881.T': {'Name': 'NISSHIN GROUP HOLDINGS Company, Limited',\n",
       "  'HQ Location': 'JP',\n",
       "  'Has Dividends or Buybacks': True,\n",
       "  'Net Debt': 39326429000.0,\n",
       "  'Cash & Equivalents': 36103865000,\n",
       "  '5Y average yield > 10%': 15.52,\n",
       "  '5Y average': 3649680800.0,\n",
       "  'Market Cap <= NCAV': True,\n",
       "  'Market Capitalization': 23513640960,\n",
       "  'NCAV Ratio': 0.5,\n",
       "  'Payback Rating': 0.5},\n",
       " '8917.T': {'Name': 'First Juken Co., Ltd.',\n",
       "  'HQ Location': 'JP',\n",
       "  'Has Dividends or Buybacks': True,\n",
       "  'Net Debt': 7545240000.0,\n",
       "  'Cash & Equivalents': 17395458000,\n",
       "  '5Y average yield > 10%': 12.01,\n",
       "  '5Y average': 1836107600.0,\n",
       "  'Market Cap <= NCAV': True,\n",
       "  'Market Capitalization': 15285269504,\n",
       "  'NCAV Ratio': 0.6,\n",
       "  'Payback Rating': 0.5},\n",
       " 'CODX': {'Name': 'Co-Diagnostics, Inc.',\n",
       "  'HQ Location': 'US',\n",
       "  'Has Dividends or Buybacks': True,\n",
       "  'Net Debt': 3044909.0,\n",
       "  'Cash & Equivalents': 22973803,\n",
       "  '5Y average yield > 10%': 34.72,\n",
       "  '5Y average': 12636863.0,\n",
       "  'Market Cap <= NCAV': True,\n",
       "  'Market Capitalization': 36697104,\n",
       "  'NCAV Ratio': 0.6,\n",
       "  'Payback Rating': 2},\n",
       " 'VINP': {'Name': 'Vinci Partners Investments Ltd.',\n",
       "  'HQ Location': 'BR',\n",
       "  'Has Dividends or Buybacks': True,\n",
       "  'Net Debt': 139917000.0,\n",
       "  'Cash & Equivalents': 136581000,\n",
       "  '5Y average yield > 10%': 27.01,\n",
       "  '5Y average': 158651800.0,\n",
       "  'Market Cap <= NCAV': True,\n",
       "  'Market Capitalization': 586726720,\n",
       "  'NCAV Ratio': 0.6,\n",
       "  'Payback Rating': 3},\n",
       " 'COHN': {'Name': 'Cohen & Company Inc.',\n",
       "  'HQ Location': 'US',\n",
       "  'Has Dividends or Buybacks': True,\n",
       "  'Net Debt': 145902000.0,\n",
       "  'Cash & Equivalents': 29101000,\n",
       "  '5Y average yield > 10%': 17.35,\n",
       "  '5Y average': 2177000.0,\n",
       "  'Market Cap <= NCAV': True,\n",
       "  'Market Capitalization': 12549101,\n",
       "  'NCAV Ratio': 0.7,\n",
       "  'Payback Rating': 0.5},\n",
       " 'ALEMG.PA': {'Name': 'Euromedis Groupe',\n",
       "  'HQ Location': 'FR',\n",
       "  'Has Dividends or Buybacks': True,\n",
       "  'Net Debt': 11799000.0,\n",
       "  'Cash & Equivalents': 26801000,\n",
       "  '5Y average yield > 10%': 41.43,\n",
       "  '5Y average': 5473200.0,\n",
       "  'Market Cap <= NCAV': True,\n",
       "  'Market Capitalization': 15120899,\n",
       "  'NCAV Ratio': 0.7,\n",
       "  'Payback Rating': 0.5},\n",
       " '3254.T': {'Name': 'Pressance Corporation',\n",
       "  'HQ Location': 'JP',\n",
       "  'Has Dividends or Buybacks': True,\n",
       "  'Net Debt': 74218000000.0,\n",
       "  'Cash & Equivalents': 106932000000,\n",
       "  '5Y average yield > 10%': 22.48,\n",
       "  '5Y average': 25633313000.0,\n",
       "  'Market Cap <= NCAV': True,\n",
       "  'Market Capitalization': 114013175808,\n",
       "  'NCAV Ratio': 0.7,\n",
       "  'Payback Rating': 1},\n",
       " 'LEON.SW': {'Name': 'Leonteq AG',\n",
       "  'HQ Location': 'CH',\n",
       "  'Has Dividends or Buybacks': True,\n",
       "  'Net Debt': 148875000.0,\n",
       "  'Cash & Equivalents': 915856000,\n",
       "  '5Y average yield > 10%': 23.51,\n",
       "  '5Y average': 132300200.0,\n",
       "  'Market Cap <= NCAV': True,\n",
       "  'Market Capitalization': 532024480,\n",
       "  'NCAV Ratio': 0.8,\n",
       "  'Payback Rating': 0.5},\n",
       " '8871.T': {'Name': 'GOLDCREST Co.,Ltd.',\n",
       "  'HQ Location': 'JP',\n",
       "  'Has Dividends or Buybacks': True,\n",
       "  'Net Debt': 48825000000.0,\n",
       "  'Cash & Equivalents': 74709000000,\n",
       "  '5Y average yield > 10%': 11.82,\n",
       "  '5Y average': 9119200000.0,\n",
       "  'Market Cap <= NCAV': True,\n",
       "  'Market Capitalization': 74280673280,\n",
       "  'NCAV Ratio': 0.8,\n",
       "  'Payback Rating': 0.5},\n",
       " '5282.T': {'Name': 'GEOSTR Corporation',\n",
       "  'HQ Location': 'JP',\n",
       "  'Has Dividends or Buybacks': True,\n",
       "  'Net Debt': 330000000.0,\n",
       "  'Cash & Equivalents': 7954581000,\n",
       "  '5Y average yield > 10%': 22.11,\n",
       "  '5Y average': 2248495200.0,\n",
       "  'Market Cap <= NCAV': True,\n",
       "  'Market Capitalization': 10167624704,\n",
       "  'NCAV Ratio': 0.8,\n",
       "  'Payback Rating': 1},\n",
       " '8935.T': {'Name': 'FJ Next Holdings Co., Ltd.',\n",
       "  'HQ Location': 'JP',\n",
       "  'Has Dividends or Buybacks': True,\n",
       "  'Net Debt': 12377000000.0,\n",
       "  'Cash & Equivalents': 32204000000,\n",
       "  '5Y average yield > 10%': 12.59,\n",
       "  '5Y average': 5059600000.0,\n",
       "  'Market Cap <= NCAV': True,\n",
       "  'Market Capitalization': 40173281280,\n",
       "  'NCAV Ratio': 0.8,\n",
       "  'Payback Rating': 2},\n",
       " 'CTX.TO': {'Name': 'Crescita Therapeutics Inc.',\n",
       "  'HQ Location': 'CA',\n",
       "  'Has Dividends or Buybacks': True,\n",
       "  'Net Debt': 1310000.0,\n",
       "  'Cash & Equivalents': 8238000,\n",
       "  '5Y average yield > 10%': 12.14,\n",
       "  '5Y average': 1165200.0,\n",
       "  'Market Cap <= NCAV': True,\n",
       "  'Market Capitalization': 9594672,\n",
       "  'NCAV Ratio': 0.8,\n",
       "  'Payback Rating': 2},\n",
       " 'AEP.L': {'Name': 'Anglo-Eastern Plantations Plc',\n",
       "  'HQ Location': 'GB',\n",
       "  'Has Dividends or Buybacks': True,\n",
       "  'Net Debt': 435000.0,\n",
       "  'Cash & Equivalents': 221476000,\n",
       "  '5Y average yield > 10%': 14.72,\n",
       "  '5Y average': 40647200.0,\n",
       "  'Market Cap <= NCAV': True,\n",
       "  'Market Capitalization': 276091808,\n",
       "  'NCAV Ratio': 0.9,\n",
       "  'Payback Rating': 2},\n",
       " '6927.T': {'Name': 'Helios Techno Holding Co., Ltd.',\n",
       "  'HQ Location': 'JP',\n",
       "  'Has Dividends or Buybacks': True,\n",
       "  'Net Debt': 110000000.0,\n",
       "  'Cash & Equivalents': 8208538000,\n",
       "  '5Y average yield > 10%': 10.02,\n",
       "  '5Y average': 987041000.0,\n",
       "  'Market Cap <= NCAV': True,\n",
       "  'Market Capitalization': 10162824192,\n",
       "  'NCAV Ratio': 0.9,\n",
       "  'Payback Rating': 2},\n",
       " 'ALGIR.PA': {'Name': 'Signaux Girod S.A.',\n",
       "  'HQ Location': 'FR',\n",
       "  'Has Dividends or Buybacks': True,\n",
       "  'Net Debt': 20925000.0,\n",
       "  'Cash & Equivalents': 16460000,\n",
       "  '5Y average yield > 10%': 10.72,\n",
       "  '5Y average': 1831800.0,\n",
       "  'Market Cap <= NCAV': True,\n",
       "  'Market Capitalization': 18754744,\n",
       "  'NCAV Ratio': 1.0,\n",
       "  'Payback Rating': 2}}"
      ]
     },
     "execution_count": 7,
     "metadata": {},
     "output_type": "execute_result"
    }
   ],
   "source": [
    "s.results"
   ]
  }
 ],
 "metadata": {
  "kernelspec": {
   "display_name": "Python 3",
   "language": "python",
   "name": "python3"
  },
  "language_info": {
   "codemirror_mode": {
    "name": "ipython",
    "version": 3
   },
   "file_extension": ".py",
   "mimetype": "text/x-python",
   "name": "python",
   "nbconvert_exporter": "python",
   "pygments_lexer": "ipython3",
   "version": "3.10.1"
  }
 },
 "nbformat": 4,
 "nbformat_minor": 2
}
