{
 "cells": [
  {
   "cell_type": "code",
   "execution_count": 7,
   "metadata": {},
   "outputs": [],
   "source": [
    "from Screener import Screener\n",
    "import pandas as pd\n",
    "\n",
    "pd.set_option('display.float_format', lambda x: '%.3f' % x)\n",
    "\n",
    "test_path = '../data/all_good.json'\n",
    "path = '../data/cleaned_tickers.json'"
   ]
  },
  {
   "cell_type": "code",
   "execution_count": 5,
   "metadata": {},
   "outputs": [
    {
     "name": "stdout",
     "output_type": "stream",
     "text": [
      "Screening complete. Total Execution Time: 0:03:03.222667\n"
     ]
    }
   ],
   "source": [
    "s = Screener(path)\n",
    "s.runV2()"
   ]
  },
  {
   "cell_type": "code",
   "execution_count": 6,
   "metadata": {},
   "outputs": [
    {
     "data": {
      "text/plain": [
       "{'VNDA': {'Name': 'Vanda Pharmaceuticals Inc.',\n",
       "  'HQ Location': 'US',\n",
       "  'Exchange Location': 'NASDAQ Global Market',\n",
       "  'Has Dividends or Buybacks': bool,\n",
       "  'Net Debt': -128815000,\n",
       "  'Cash & Equivalents': 136290000,\n",
       "  '5Y average yield > 10%': 16.24,\n",
       "  '5Y average': 40458600.0,\n",
       "  'Positive NCAV': True,\n",
       "  'Market Capitalization': 249113560,\n",
       "  'NCAV Ratio': 0.8,\n",
       "  'Payback Rating': float},\n",
       " 'WCW.L': {'Name': 'Walker Crips Group plc',\n",
       "  'HQ Location': 'GB',\n",
       "  'Exchange Location': 'London Stock Exchange',\n",
       "  'Has Dividends or Buybacks': True,\n",
       "  'Net Debt': -10408000,\n",
       "  'Cash & Equivalents': 13138000,\n",
       "  '5Y average yield > 10%': 21.66,\n",
       "  '5Y average': 2075000.0,\n",
       "  'Positive NCAV': True,\n",
       "  'Market Capitalization': 9579893,\n",
       "  'NCAV Ratio': 1.1,\n",
       "  'Payback Rating': float},\n",
       " 'PLUS.L': {'Name': 'Plus500 Ltd.',\n",
       "  'HQ Location': 'IL',\n",
       "  'Exchange Location': 'London Stock Exchange',\n",
       "  'Has Dividends or Buybacks': True,\n",
       "  'Net Debt': -924600000,\n",
       "  'Cash & Equivalents': 930200000,\n",
       "  '5Y average yield > 10%': 26.9,\n",
       "  '5Y average': 382680000.0,\n",
       "  'Positive NCAV': True,\n",
       "  'Market Capitalization': 1422747293,\n",
       "  'NCAV Ratio': 2.0,\n",
       "  'Payback Rating': float}}"
      ]
     },
     "execution_count": 6,
     "metadata": {},
     "output_type": "execute_result"
    }
   ],
   "source": [
    "s.results"
   ]
  },
  {
   "cell_type": "code",
   "execution_count": null,
   "metadata": {},
   "outputs": [],
   "source": [
    "df = pd.DataFrame.from_dict(s.results, orient='index')\n",
    "df.to_excel('../output/test_run.xlsx')"
   ]
  }
 ],
 "metadata": {
  "kernelspec": {
   "display_name": "Python 3",
   "language": "python",
   "name": "python3"
  },
  "language_info": {
   "codemirror_mode": {
    "name": "ipython",
    "version": 3
   },
   "file_extension": ".py",
   "mimetype": "text/x-python",
   "name": "python",
   "nbconvert_exporter": "python",
   "pygments_lexer": "ipython3",
   "version": "3.10.1"
  }
 },
 "nbformat": 4,
 "nbformat_minor": 2
}
