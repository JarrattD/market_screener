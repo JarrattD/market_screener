{
 "cells": [
  {
   "cell_type": "code",
   "execution_count": 19,
   "metadata": {},
   "outputs": [
    {
     "name": "stdout",
     "output_type": "stream",
     "text": [
      "<Response [200]>\n",
      "{\"authenticated\":false,\"competing\":false,\"connected\":true,\"message\":\"\",\"MAC\":\"F4:03:43:CD:BD:C0\",\"serverInfo\":{\"serverName\":null,\"serverVersion\":null},\"fail\":\"\"}\n"
     ]
    }
   ],
   "source": [
    "import requests\n",
    "import urllib3\n",
    "\n",
    "urllib3.disable_warnings(urllib3.exceptions.InsecureRequestWarning)\n",
    "\n",
    "def reauth():\n",
    "    base = \"https://localhost:5050/v1/api/\"\n",
    "    end = \"iserver/reauthenticate?force=true\"\n",
    "    auth_req = requests.post(url=base+end, verify=False)\n",
    "    print(auth_req)\n",
    "    print(auth_req.text)\n",
    "\n",
    "def confirm_status():\n",
    "    base = \"https://localhost:5050/v1/api/\"\n",
    "    end = \"iserver/auth/status\"\n",
    "    # end = \"sso/validate\"\n",
    "\n",
    "    auth_req = requests.post(url=base+end, verify=False)\n",
    "    print(auth_req)\n",
    "    print(auth_req.text)\n",
    "\n",
    "# reauth()\n",
    "confirm_status()"
   ]
  },
  {
   "cell_type": "code",
   "execution_count": 22,
   "metadata": {},
   "outputs": [
    {
     "name": "stdout",
     "output_type": "stream",
     "text": [
      "<Response [200]>\n",
      "{\"USER_ID\":116433908,\"USER_NAME\":\"riellyyoung\",\"RESULT\":true,\"AUTH_TIME\":1706466752745,\"SF_ENABLED\":false,\"IS_FREE_TRIAL\":true,\"CREDENTIAL\":\"riellyyoung\",\"IP\":\"142.113.101.74\",\"EXPIRES\":483616,\"QUALIFIED_FOR_MOBILE_AUTH\":null,\"LANDING_APP\":\"UNIVERSAL\",\"IS_MASTER\":false,\"lastAccessed\":1706466840026,\"LOGIN_TYPE\":2,\"PAPER_USER_NAME\":\"pvfyyh837\",\"features\":{\"env\":\"PROD\",\"wlms\":true,\"realtime\":true,\"bond\":true,\"optionChains\":true,\"calendar\":true,\"newMf\":true},\"region\":\"IL\"}\n"
     ]
    }
   ],
   "source": [
    "def validate():\n",
    "    base = \"https://localhost:5050/v1/api/\"\n",
    "    # end = \"logout\"\n",
    "    end = \"sso/validate\"\n",
    "\n",
    "    auth_req = requests.post(url=base+end, verify=False)\n",
    "    print(auth_req)\n",
    "    print(auth_req.text)\n",
    "\n",
    "validate()"
   ]
  },
  {
   "cell_type": "code",
   "execution_count": 20,
   "metadata": {},
   "outputs": [
    {
     "data": {
      "text/plain": [
       "'{\"error\":\"not authenticated\",\"statusCode\":401}'"
      ]
     },
     "execution_count": 20,
     "metadata": {},
     "output_type": "execute_result"
    }
   ],
   "source": [
    "import json\n",
    "auth_req = requests.post(url=\"https://localhost:5050/v1/api/iserver/secdef/search\", verify=False, json={\"symbol\":\"ES\", \"secType\":\"STK\", \"name\":False})\n",
    "json.dumps(auth_req.json())\n",
    "\n",
    "auth_req.text"
   ]
  }
 ],
 "metadata": {
  "kernelspec": {
   "display_name": "Python 3",
   "language": "python",
   "name": "python3"
  },
  "language_info": {
   "codemirror_mode": {
    "name": "ipython",
    "version": 3
   },
   "file_extension": ".py",
   "mimetype": "text/x-python",
   "name": "python",
   "nbconvert_exporter": "python",
   "pygments_lexer": "ipython3",
   "version": "3.9.7"
  }
 },
 "nbformat": 4,
 "nbformat_minor": 2
}
