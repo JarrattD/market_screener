{
 "cells": [
  {
   "cell_type": "code",
   "execution_count": 9,
   "metadata": {},
   "outputs": [
    {
     "data": {
      "text/plain": [
       "False"
      ]
     },
     "execution_count": 9,
     "metadata": {},
     "output_type": "execute_result"
    }
   ],
   "source": [
    "import yfinance as yf\n",
    "import pandas as pd\n",
    "\n",
    "pd.set_option('display.float_format', lambda x: '%.3f' % x)\n",
    "\n",
    "test = yf.Ticker(\"MSFT\")\n",
    "\n",
    "msft_market_cap = test.info['marketCap']\n",
    "msft_current_assets = test.quarterly_balance_sheet.loc['Total Assets'][0]\n",
    "msft_total_liabilities = test.quarterly_balance_sheet.loc['Current Liabilities'][0]\n",
    "msft_shares_outstanding = test.info['sharesOutstanding']\n",
    "msft_hist = test.history(period=\"5y\", interval=\"3mo\")\n",
    "msft_hist['marketCap'] = msft_shares_outstanding * msft_hist['Close']\n",
    "msft_free_cash_flow_recent_quarter = test.cash_flow.loc['Free Cash Flow'][0]\n",
    "msft_dividends = test.history(period=\"5y\")[\"Dividends\"][test.history(period=\"5y\")[\"Dividends\"] > 0].to_list()\n",
    "msft_dividends_paid = (test.history(period=\"5y\")[\"Dividends\"] > 0).sum()\n",
    "msft_total_debt = test.quarterly_balance_sheet.loc['Total Debt'][0]\n",
    "msft_cash_and_equivalents_and_short_term_investments = test.quarterly_balance_sheet.loc['Cash Cash Equivalents And Short Term Investments'][0]\n",
    "\n",
    "msft_fcf = pd.DataFrame(test.cash_flow.loc['Free Cash Flow'])\n",
    "msft_fcf.index = msft_fcf.index + pd.Timedelta(days=1)\n",
    "msft_fcf.index = [str(i)[:10] for i in msft_fcf.index]\n",
    "msft_hist.index = [str(i)[:10] for i in msft_hist['marketCap'].index]\n",
    "df1 = pd.DataFrame(msft_hist['marketCap'])\n",
    "\n",
    "result = pd.merge(msft_fcf, df1, left_index=True, right_index=True)\n",
    "msft_total_debt > msft_cash_and_equivalents_and_short_term_investments"
   ]
  },
  {
   "cell_type": "code",
   "execution_count": 2,
   "metadata": {},
   "outputs": [],
   "source": [
    "from screener import Screener\n",
    "\n",
    "screener = Screener()\n"
   ]
  },
  {
   "cell_type": "markdown",
   "metadata": {},
   "source": [
    "## 1. Market Cap at or below Net-Current-Asset-Value"
   ]
  },
  {
   "cell_type": "code",
   "execution_count": 3,
   "metadata": {},
   "outputs": [
    {
     "data": {
      "text/plain": [
       "False"
      ]
     },
     "execution_count": 3,
     "metadata": {},
     "output_type": "execute_result"
    }
   ],
   "source": [
    "market_cap = msft_market_cap\n",
    "current_assets = msft_current_assets\n",
    "total_liabilities = msft_total_liabilities\n",
    "\n",
    "market_cap <= screener.calculate_ncav(current_assets, total_liabilities)"
   ]
  },
  {
   "cell_type": "markdown",
   "metadata": {},
   "source": [
    "## 2. Average 5Y annual Free Cash Flow yield at 10% or more"
   ]
  },
  {
   "cell_type": "code",
   "execution_count": null,
   "metadata": {},
   "outputs": [],
   "source": [
    "# Example usage:\n",
    "fcff_values = [100000, 120000, 150000, 130000, 110000]\n",
    "market_cap_values = [800000, 900000, 1000000, 950000, 850000]\n",
    "\n",
    "screener.calculate_average_earnings_yield(fcff_values, market_cap_values)"
   ]
  },
  {
   "cell_type": "markdown",
   "metadata": {},
   "source": [
    "## 2.1 Average 4Y annual Free Cash Flow yield at 10% or more"
   ]
  },
  {
   "cell_type": "code",
   "execution_count": 4,
   "metadata": {},
   "outputs": [
    {
     "name": "stdout",
     "output_type": "stream",
     "text": [
      "Yields >=10% []\n"
     ]
    },
    {
     "data": {
      "text/plain": [
       "0"
      ]
     },
     "execution_count": 4,
     "metadata": {},
     "output_type": "execute_result"
    }
   ],
   "source": [
    "fcff_values = result['Free Cash Flow']\n",
    "market_cap_values = result['marketCap']\n",
    "\n",
    "screener.calculate_average_earnings_yield(fcff_values, market_cap_values)"
   ]
  },
  {
   "cell_type": "markdown",
   "metadata": {},
   "source": [
    "## 3. Positive TTM Free-cashflow"
   ]
  },
  {
   "cell_type": "code",
   "execution_count": 5,
   "metadata": {},
   "outputs": [
    {
     "data": {
      "text/plain": [
       "True"
      ]
     },
     "execution_count": 5,
     "metadata": {},
     "output_type": "execute_result"
    }
   ],
   "source": [
    "values = msft_free_cash_flow_recent_quarter\n",
    "ttm = values = msft_free_cash_flow_recent_quarter\n",
    "\n",
    "ttm > 0"
   ]
  },
  {
   "cell_type": "markdown",
   "metadata": {},
   "source": [
    "## 4. Zero or negative net-debt"
   ]
  },
  {
   "cell_type": "code",
   "execution_count": 6,
   "metadata": {},
   "outputs": [
    {
     "data": {
      "text/plain": [
       "-58956000000.0"
      ]
     },
     "execution_count": 6,
     "metadata": {},
     "output_type": "execute_result"
    }
   ],
   "source": [
    "total_debt = msft_total_debt\n",
    "cash_and_equivalents = msft_cash_and_equivalents_and_short_term_investments\n",
    "screener.calculate_net_debt(total_debt, cash_and_equivalents) "
   ]
  },
  {
   "cell_type": "markdown",
   "metadata": {},
   "source": [
    "## 5. Sum 5Y dividends or buybacks present"
   ]
  },
  {
   "cell_type": "code",
   "execution_count": null,
   "metadata": {},
   "outputs": [],
   "source": []
  },
  {
   "cell_type": "markdown",
   "metadata": {},
   "source": [
    "## Calculate Payback Rating"
   ]
  },
  {
   "cell_type": "code",
   "execution_count": null,
   "metadata": {},
   "outputs": [],
   "source": []
  }
 ],
 "metadata": {
  "kernelspec": {
   "display_name": "Python 3",
   "language": "python",
   "name": "python3"
  },
  "language_info": {
   "codemirror_mode": {
    "name": "ipython",
    "version": 3
   },
   "file_extension": ".py",
   "mimetype": "text/x-python",
   "name": "python",
   "nbconvert_exporter": "python",
   "pygments_lexer": "ipython3",
   "version": "3.10.1"
  }
 },
 "nbformat": 4,
 "nbformat_minor": 2
}
