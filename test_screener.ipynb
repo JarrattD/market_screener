{
 "cells": [
  {
   "cell_type": "code",
   "execution_count": 9,
   "metadata": {},
   "outputs": [
    {
     "data": {
      "text/plain": [
       "False"
      ]
     },
     "execution_count": 9,
     "metadata": {},
     "output_type": "execute_result"
    }
   ],
   "source": [
    "import yfinance as yf\n",
    "import pandas as pd\n",
    "\n",
    "pd.set_option('display.float_format', lambda x: '%.3f' % x)\n",
    "\n",
    "test = yf.Ticker(\"MSFT\")\n",
    "\n",
    "msft_market_cap = test.info['marketCap']\n",
    "msft_current_assets = test.quarterly_balance_sheet.loc['Total Assets'][0]\n",
    "msft_total_liabilities = test.quarterly_balance_sheet.loc['Current Liabilities'][0]\n",
    "msft_shares_outstanding = test.info['sharesOutstanding']\n",
    "msft_hist = test.history(period=\"5y\", interval=\"3mo\")\n",
    "msft_hist['marketCap'] = msft_shares_outstanding * msft_hist['Close']\n",
    "msft_free_cash_flow_recent_quarter = test.cash_flow.loc['Free Cash Flow'][0]\n",
    "msft_dividends = test.history(period=\"5y\")[\"Dividends\"][test.history(period=\"5y\")[\"Dividends\"] > 0].to_list()\n",
    "msft_dividends_paid = (test.history(period=\"5y\")[\"Dividends\"] > 0).sum()\n",
    "msft_total_debt = test.quarterly_balance_sheet.loc['Total Debt'][0]\n",
    "msft_cash_and_equivalents_and_short_term_investments = test.quarterly_balance_sheet.loc['Cash Cash Equivalents And Short Term Investments'][0]\n",
    "\n",
    "msft_fcf = pd.DataFrame(test.cash_flow.loc['Free Cash Flow'])\n",
    "msft_fcf.index = msft_fcf.index + pd.Timedelta(days=1)\n",
    "msft_fcf.index = [str(i)[:10] for i in msft_fcf.index]\n",
    "msft_hist.index = [str(i)[:10] for i in msft_hist['marketCap'].index]\n",
    "df1 = pd.DataFrame(msft_hist['marketCap'])\n",
    "\n",
    "result = pd.merge(msft_fcf, df1, left_index=True, right_index=True)"
   ]
  },
  {
   "cell_type": "code",
   "execution_count": 1,
   "metadata": {},
   "outputs": [],
   "source": [
    "from screener import Screener\n",
    "\n",
    "screener = Screener()\n"
   ]
  },
  {
   "cell_type": "markdown",
   "metadata": {},
   "source": [
    "## 1. Market Cap at or below Net-Current-Asset-Value"
   ]
  },
  {
   "cell_type": "code",
   "execution_count": 11,
   "metadata": {},
   "outputs": [
    {
     "data": {
      "text/plain": [
       "3009100644352"
      ]
     },
     "execution_count": 11,
     "metadata": {},
     "output_type": "execute_result"
    }
   ],
   "source": [
    "market_cap = msft_market_cap\n",
    "current_assets = msft_current_assets\n",
    "total_liabilities = msft_total_liabilities\n",
    "\n",
    "market_cap #<= screener.calculate_ncav(current_assets, total_liabilities)"
   ]
  },
  {
   "cell_type": "markdown",
   "metadata": {},
   "source": [
    "## 2. Average 5Y annual Free Cash Flow yield at 10% or more"
   ]
  },
  {
   "cell_type": "code",
   "execution_count": 12,
   "metadata": {},
   "outputs": [
    {
     "name": "stdout",
     "output_type": "stream",
     "text": [
      "Yields >=10% [12.5, 13.333333333333334, 15.0, 13.684210526315791, 12.941176470588237]\n"
     ]
    },
    {
     "data": {
      "text/plain": [
       "13.0"
      ]
     },
     "execution_count": 12,
     "metadata": {},
     "output_type": "execute_result"
    }
   ],
   "source": [
    "# Example usage:\n",
    "fcff_values = [100000, 120000, 150000, 130000, 110000]\n",
    "market_cap_values = [800000, 900000, 1000000, 950000, 850000]\n",
    "\n",
    "screener.calculate_average_earnings_yield(fcff_values, market_cap_values)"
   ]
  },
  {
   "cell_type": "markdown",
   "metadata": {},
   "source": [
    "## 2.1 Average 4Y annual Free Cash Flow yield at 10% or more"
   ]
  },
  {
   "cell_type": "code",
   "execution_count": 15,
   "metadata": {},
   "outputs": [
    {
     "name": "stdout",
     "output_type": "stream",
     "text": [
      "Yields >=10% []\n"
     ]
    },
    {
     "data": {
      "text/plain": [
       "int"
      ]
     },
     "execution_count": 15,
     "metadata": {},
     "output_type": "execute_result"
    }
   ],
   "source": [
    "fcff_values = result['Free Cash Flow']\n",
    "market_cap_values = result['marketCap']\n",
    "\n",
    "f = screener.calculate_average_earnings_yield(fcff_values, market_cap_values)\n",
    "\n",
    "type(f)"
   ]
  },
  {
   "cell_type": "markdown",
   "metadata": {},
   "source": [
    "## 3. Positive TTM Free-cashflow"
   ]
  },
  {
   "cell_type": "code",
   "execution_count": 13,
   "metadata": {},
   "outputs": [
    {
     "data": {
      "text/plain": [
       "59475000000.0"
      ]
     },
     "execution_count": 13,
     "metadata": {},
     "output_type": "execute_result"
    }
   ],
   "source": [
    "values = msft_free_cash_flow_recent_quarter\n",
    "ttm = values\n",
    "\n",
    "ttm "
   ]
  },
  {
   "cell_type": "markdown",
   "metadata": {},
   "source": [
    "## 4. Zero or negative net-debt"
   ]
  },
  {
   "cell_type": "code",
   "execution_count": 6,
   "metadata": {},
   "outputs": [
    {
     "data": {
      "text/plain": [
       "-58956000000.0"
      ]
     },
     "execution_count": 6,
     "metadata": {},
     "output_type": "execute_result"
    }
   ],
   "source": [
    "total_debt = msft_total_debt\n",
    "cash_and_equivalents = msft_cash_and_equivalents_and_short_term_investments\n",
    "screener.calculate_net_debt(total_debt, cash_and_equivalents) "
   ]
  },
  {
   "cell_type": "markdown",
   "metadata": {},
   "source": [
    "## 5. Some 5Y dividends or buybacks present"
   ]
  },
  {
   "cell_type": "code",
   "execution_count": null,
   "metadata": {},
   "outputs": [],
   "source": []
  },
  {
   "cell_type": "markdown",
   "metadata": {},
   "source": [
    "## Test `Screener.execute(args)`"
   ]
  },
  {
   "cell_type": "code",
   "execution_count": 7,
   "metadata": {},
   "outputs": [
    {
     "name": "stdout",
     "output_type": "stream",
     "text": [
      "Yields >=10% [1250.0, 1333.3333333333335, 1500.0, 1368.421052631579, 14666.666666666666]\n"
     ]
    },
    {
     "data": {
      "text/plain": [
       "{'MSFT': {'Market Cap at or below NCAV': True,\n",
       "  'Average 5Y annual Free Cash Flow yield at 10%': True,\n",
       "  'TTM is Positive': True,\n",
       "  'Net-Debt': -720,\n",
       "  'Has paid dividends or buybacks': True}}"
      ]
     },
     "execution_count": 7,
     "metadata": {},
     "output_type": "execute_result"
    }
   ],
   "source": [
    "msft = {\"Ticker\":\"MSFT\", \"Market Caps\":[8000, 9000, 10000, 9500, 750], \"Current Assets\":5000,\"Total Liabilities\":30, \"Free Cash Flows\":[100000, 120000, 150000, 130000, 110000], \"Total Debt\":-400, \"Cash\":320, \"Dividends\":[0,0,0,0,0.5,0.5]}\n",
    "\n",
    "scr = Screener()\n",
    "scr.execute(msft[\"Ticker\"], msft['Market Caps'], msft['Current Assets'], msft['Total Liabilities'], msft['Free Cash Flows'], msft['Total Debt'], msft['Cash'], msft[\"Dividends\"])\n",
    "scr.newly_added\n"
   ]
  },
  {
   "cell_type": "markdown",
   "metadata": {},
   "source": [
    "## Calculate Payback Rating"
   ]
  },
  {
   "cell_type": "code",
   "execution_count": null,
   "metadata": {},
   "outputs": [],
   "source": []
  }
 ],
 "metadata": {
  "kernelspec": {
   "display_name": "Python 3",
   "language": "python",
   "name": "python3"
  },
  "language_info": {
   "codemirror_mode": {
    "name": "ipython",
    "version": 3
   },
   "file_extension": ".py",
   "mimetype": "text/x-python",
   "name": "python",
   "nbconvert_exporter": "python",
   "pygments_lexer": "ipython3",
   "version": "3.10.1"
  }
 },
 "nbformat": 4,
 "nbformat_minor": 2
}
