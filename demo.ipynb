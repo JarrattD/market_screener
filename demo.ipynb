{
 "cells": [
  {
   "cell_type": "code",
   "execution_count": null,
   "metadata": {},
   "outputs": [],
   "source": [
    "import yfinance as yf\n",
    "\n",
    "from alpha_vantage.timeseries import TimeSeries\n",
    "import pandas as pd\n",
    "import os\n",
    "\n",
    "# Replace 'YOUR_API_KEY' with your Alpha Vantage API key\n",
    "api_key = os.environ['ALPHA_VANTAGE_API_KEY']\n",
    "ticker_symbol = 'IBM'\n",
    "\n",
    "# Fetch historical data for the past 5 years\n",
    "ts = TimeSeries(key=api_key, output_format='pandas')\n",
    "df, meta_data = ts.get_daily(symbol=ticker_symbol, outputsize='full')\n",
    "\n",
    "# Display the historical data\n",
    "print(df.head())"
   ]
  },
  {
   "cell_type": "code",
   "execution_count": 5,
   "metadata": {},
   "outputs": [],
   "source": [
    "class Stock:\n",
    "    def __init__(self, ticker) -> None:\n",
    "        self.ticker = yf.Ticker(ticker)\n",
    "        self.info = self.ticker.info\n",
    "        # self.market_cap = self.info['marketCap']\n",
    "        # self.quarterly_income_stmt = self.ticker.quarterly_income_stmt\n",
    "        # self.quarterly_balance_sheet = self.ticker.quarterly_balance_sheet\n",
    "        # self.quarterly_cash_flow = self.ticker.quarterly_cash_flow"
   ]
  },
  {
   "cell_type": "markdown",
   "metadata": {},
   "source": [
    "### (1) Market Cap at or below Net-Current-Asset-Value"
   ]
  },
  {
   "cell_type": "code",
   "execution_count": null,
   "metadata": {},
   "outputs": [],
   "source": [
    "msft = Stock(\"MSFT\")\n",
    "\n",
    "# msft.market_cap\n",
    "total_assets = msft.quarterly_balance_sheet.loc['Total Assets'][0]\n",
    "total_liabilities =msft.quarterly_balance_sheet.loc['Current Liabilities'][0]\n",
    "\n",
    "total_assets-total_liabilities"
   ]
  },
  {
   "cell_type": "markdown",
   "metadata": {},
   "source": [
    "### (2) Average 5Y annual Free Cash Flow <= 10%"
   ]
  },
  {
   "cell_type": "code",
   "execution_count": null,
   "metadata": {},
   "outputs": [],
   "source": [
    "ba = Stock(\"BA\")\n",
    "\n",
    "ba.ticker.get_cash_flow(freq='quarterly')"
   ]
  },
  {
   "cell_type": "markdown",
   "metadata": {},
   "source": [
    "### (3) Positive TTM Free-cashflow"
   ]
  },
  {
   "cell_type": "code",
   "execution_count": null,
   "metadata": {},
   "outputs": [],
   "source": [
    "\n",
    "cn = Stock(\"CNI\")\n",
    "operating_cash_flow_df = cn.ticker.quarterly_cash_flow.loc['Operating Cash Flow']\n",
    "capital_expendatures_df = cn.ticker.quarterly_cash_flow.loc['Capital Expenditure']\n",
    "df['TTM']"
   ]
  },
  {
   "cell_type": "markdown",
   "metadata": {},
   "source": [
    "### (4) Zero or negative net-debt"
   ]
  },
  {
   "cell_type": "code",
   "execution_count": null,
   "metadata": {},
   "outputs": [],
   "source": [
    "rbc = yf.Ticker(\"RY.TO\")\n",
    "rbc.quarterly_balance_sheet.head(2)"
   ]
  },
  {
   "cell_type": "markdown",
   "metadata": {},
   "source": [
    "### (5) Sum 5Y dividends or buybacks present"
   ]
  },
  {
   "cell_type": "code",
   "execution_count": 8,
   "metadata": {},
   "outputs": [
    {
     "data": {
      "text/plain": [
       "[0.8,\n",
       " 0.8,\n",
       " 0.9,\n",
       " 0.9,\n",
       " 0.9,\n",
       " 0.9,\n",
       " 0.9,\n",
       " 0.9,\n",
       " 0.9,\n",
       " 0.9,\n",
       " 1.0,\n",
       " 1.0,\n",
       " 1.0,\n",
       " 1.0,\n",
       " 1.0,\n",
       " 1.0,\n",
       " 1.0,\n",
       " 1.0,\n",
       " 1.05,\n",
       " 1.05]"
      ]
     },
     "execution_count": 8,
     "metadata": {},
     "output_type": "execute_result"
    }
   ],
   "source": [
    "jpm = yf.Ticker(\"JPM\")\n",
    "dividend_df = jpm.history(period=\"5y\")[\"Dividends\"]\n",
    "\n",
    "dividends = dividend_df[dividend_df > 0].to_list()\n",
    "dividends_paid = (dividend_df > 0).sum()\n",
    "dividends"
   ]
  },
  {
   "cell_type": "markdown",
   "metadata": {},
   "source": [
    "### (6) Only companies from selected country HQs or exchanges"
   ]
  },
  {
   "cell_type": "code",
   "execution_count": 9,
   "metadata": {},
   "outputs": [
    {
     "data": {
      "text/plain": [
       "{'regularMarketPrice': None, 'preMarketPrice': None, 'logo_url': ''}"
      ]
     },
     "execution_count": 9,
     "metadata": {},
     "output_type": "execute_result"
    }
   ],
   "source": [
    "jpm.info"
   ]
  },
  {
   "cell_type": "code",
   "execution_count": 1,
   "metadata": {},
   "outputs": [],
   "source": [
    "import requests\n",
    "\n",
    "cik = \"0001840574\"\n",
    "url = f\"https://data.sec.gov/api/xbrl/companyfacts/CIK{cik}.json\"\n",
    "OperatingExpenses = f\"https://data.sec.gov/api/xbrl/frames/us-gaap/OperatingExpenses/USD/CY2022.json\"\n",
    "NetCashProvidedByUsedInOperatingActivities = f\"https://data.sec.gov/api/xbrl/frames/us-gaap/NetCashProvidedByUsedInOperatingActivities/USD/CY2022.json\"\n",
    "req = requests.get(url, headers={\"User-Agent\":\"rie@gmail.com\", \"Accept-Encoding\":\"gzip, deflate, br\", \"Host\":\"data.sec.gov\", \"Connection\":\"keep-alive\"})\n",
    "facts = req.json()['facts']\n",
    "## FCF = Operating Revenue - Capital Expenditures"
   ]
  },
  {
   "cell_type": "code",
   "execution_count": 3,
   "metadata": {},
   "outputs": [
    {
     "data": {
      "text/plain": [
       "12084"
      ]
     },
     "execution_count": 3,
     "metadata": {},
     "output_type": "execute_result"
    }
   ],
   "source": [
    "def convert_cik_list(file_path: str) -> dict:\n",
    "    result_dict = {}\n",
    "    \n",
    "    with open(file_path, 'r') as file:\n",
    "        for line in file:\n",
    "            parts = line.strip().split(':')\n",
    "            if len(parts) == 2:\n",
    "                ticker = parts[0].strip().upper()\n",
    "                value = int(parts[1].strip())\n",
    "                result_dict[ticker] = value\n",
    "    \n",
    "    return result_dict\n",
    "\n",
    "cik_dict = convert_cik_list('./cik.txt')\n",
    "\n",
    "values = {i:[0]*5 for i in cik_dict.keys()}\n",
    "missing_op_income_loss = []\n",
    "\n",
    "for key, val in cik_dict.items():\n",
    "    try:\n",
    "        zeros_to_add = 10-len(str(val))\n",
    "        new_cik = \"\"\n",
    "        for i in range(zeros_to_add):\n",
    "            new_cik+=\"0\"\n",
    "        final_cik = new_cik + str(val)\n",
    "        url = f\"https://data.sec.gov/api/xbrl/companyfacts/CIK{final_cik}.json\"\n",
    "        req = requests.get(url = url, headers= {\"User-Agent\":\"rie@gmail.com\", \"Accept-Encoding\":\"gzip, deflate, br\", \"Host\":\"data.sec.gov\", \"Connection\":\"keep-alive\"})\n",
    "        operating_income_losses = req.json()['facts']['us-gaap']['OperatingIncomeLoss']\n",
    "        values[key][0], values[key][1], values[key][2], values[key][3], values[key][4] = operating_income_losses[-1], operating_income_losses[-2], operating_income_losses[-3], operating_income_losses[-4], operating_income_losses[-5]\n",
    "    except Exception as e:\n",
    "        missing_op_income_loss.append(key)\n",
    "\n",
    "len(missing_op_income_loss)"
   ]
  },
  {
   "cell_type": "code",
   "execution_count": 18,
   "metadata": {},
   "outputs": [
    {
     "data": {
      "text/plain": [
       "0.7771079846349065"
      ]
     },
     "execution_count": 18,
     "metadata": {},
     "output_type": "execute_result"
    }
   ],
   "source": [
    "import requests\n",
    "import os\n",
    "from dotenv import load_dotenv\n",
    "load_dotenv()\n",
    "\n",
    "key = os.environ['FMP_KEY']\n",
    "def get_cashflow(ticker: str, span:int = 5) -> str:\n",
    "    url = f'https://financialmodelingprep.com/api/v3/cash-flow-statement/{ticker}?period=annual&apikey={key}&limit={span}'\n",
    "    response = requests.get(url)\n",
    "    return response.json()\n",
    "\n",
    "def get_five_year_fcf(ticker: str) -> list[str]:\n",
    "    return [i['freeCashFlow'] for i in get_cashflow(ticker)]\n",
    "\n",
    "\n",
    "\n",
    "def get_profile(ticker: str, span:int = 5) -> str:\n",
    "    url = f'https://financialmodelingprep.com/api/v3/profile/{ticker}?apikey={key}'\n",
    "    response = requests.get(url)\n",
    "    return response.json()\n",
    "\n",
    "def five_year_yield(ticker: str) -> float:\n",
    "    return sum(get_five_year_fcf(ticker)) / get_profile(ticker)[0]['mktCap']\n",
    "\n",
    "five_year_yield('3420.T')"
   ]
  }
 ],
 "metadata": {
  "kernelspec": {
   "display_name": "Python 3",
   "language": "python",
   "name": "python3"
  },
  "language_info": {
   "codemirror_mode": {
    "name": "ipython",
    "version": 3
   },
   "file_extension": ".py",
   "mimetype": "text/x-python",
   "name": "python",
   "nbconvert_exporter": "python",
   "pygments_lexer": "ipython3",
   "version": "3.10.1"
  }
 },
 "nbformat": 4,
 "nbformat_minor": 2
}
