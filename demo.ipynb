{
 "cells": [
  {
   "cell_type": "code",
   "execution_count": 1,
   "metadata": {},
   "outputs": [
    {
     "name": "stdout",
     "output_type": "stream",
     "text": [
      "            1. open   2. high  3. low  4. close   5. volume\n",
      "date                                                       \n",
      "2024-01-26   191.31  192.3896  186.16    187.42   9895941.0\n",
      "2024-01-25   184.96  196.9000  184.83    190.43  29596239.0\n",
      "2024-01-24   174.76  174.8600  172.90    173.93   7831157.0\n",
      "2024-01-23   172.90  174.0200  172.48    173.94   3983461.0\n",
      "2024-01-22   172.82  174.4500  172.40    172.83   4925964.0\n"
     ]
    }
   ],
   "source": [
    "import yfinance as yf\n",
    "\n",
    "from alpha_vantage.timeseries import TimeSeries\n",
    "import pandas as pd\n",
    "import os\n",
    "\n",
    "# Replace 'YOUR_API_KEY' with your Alpha Vantage API key\n",
    "api_key = os.environ['ALPHA_VANTAGE_API_KEY']\n",
    "ticker_symbol = 'IBM'\n",
    "\n",
    "# Fetch historical data for the past 5 years\n",
    "ts = TimeSeries(key=api_key, output_format='pandas')\n",
    "df, meta_data = ts.get_daily(symbol=ticker_symbol, outputsize='full')\n",
    "\n",
    "# Display the historical data\n",
    "print(df.head())"
   ]
  },
  {
   "cell_type": "code",
   "execution_count": 2,
   "metadata": {},
   "outputs": [],
   "source": [
    "class Stock:\n",
    "    def __init__(self, ticker) -> None:\n",
    "        self.ticker = yf.Ticker(ticker)\n",
    "        self.info = self.ticker.info\n",
    "        # self.market_cap = self.info['marketCap']\n",
    "        self.quarterly_income_stmt = self.ticker.quarterly_income_stmt\n",
    "        self.quarterly_balance_sheet = self.ticker.quarterly_balance_sheet\n",
    "        self.quarterly_cash_flow = self.ticker.quarterly_cash_flow"
   ]
  },
  {
   "cell_type": "markdown",
   "metadata": {},
   "source": [
    "### (1) Market Cap at or below Net-Current-Asset-Value"
   ]
  },
  {
   "cell_type": "code",
   "execution_count": 4,
   "metadata": {},
   "outputs": [
    {
     "ename": "AttributeError",
     "evalue": "'Ticker' object has no attribute 'quarterly_income_stmt'",
     "output_type": "error",
     "traceback": [
      "\u001b[0;31m---------------------------------------------------------------------------\u001b[0m",
      "\u001b[0;31mAttributeError\u001b[0m                            Traceback (most recent call last)",
      "Cell \u001b[0;32mIn[4], line 1\u001b[0m\n\u001b[0;32m----> 1\u001b[0m msft \u001b[38;5;241m=\u001b[39m \u001b[43mStock\u001b[49m\u001b[43m(\u001b[49m\u001b[38;5;124;43m\"\u001b[39;49m\u001b[38;5;124;43mMSFT\u001b[39;49m\u001b[38;5;124;43m\"\u001b[39;49m\u001b[43m)\u001b[49m\n\u001b[1;32m      3\u001b[0m \u001b[38;5;66;03m# msft.market_cap\u001b[39;00m\n\u001b[1;32m      4\u001b[0m total_assets \u001b[38;5;241m=\u001b[39m msft\u001b[38;5;241m.\u001b[39mquarterly_balance_sheet\u001b[38;5;241m.\u001b[39mloc[\u001b[38;5;124m'\u001b[39m\u001b[38;5;124mTotal Assets\u001b[39m\u001b[38;5;124m'\u001b[39m][\u001b[38;5;241m0\u001b[39m]\n",
      "Cell \u001b[0;32mIn[2], line 6\u001b[0m, in \u001b[0;36mStock.__init__\u001b[0;34m(self, ticker)\u001b[0m\n\u001b[1;32m      4\u001b[0m \u001b[38;5;28mself\u001b[39m\u001b[38;5;241m.\u001b[39minfo \u001b[38;5;241m=\u001b[39m \u001b[38;5;28mself\u001b[39m\u001b[38;5;241m.\u001b[39mticker\u001b[38;5;241m.\u001b[39minfo\n\u001b[1;32m      5\u001b[0m \u001b[38;5;66;03m# self.market_cap = self.info['marketCap']\u001b[39;00m\n\u001b[0;32m----> 6\u001b[0m \u001b[38;5;28mself\u001b[39m\u001b[38;5;241m.\u001b[39mquarterly_income_stmt \u001b[38;5;241m=\u001b[39m \u001b[38;5;28;43mself\u001b[39;49m\u001b[38;5;241;43m.\u001b[39;49m\u001b[43mticker\u001b[49m\u001b[38;5;241;43m.\u001b[39;49m\u001b[43mquarterly_income_stmt\u001b[49m\n\u001b[1;32m      7\u001b[0m \u001b[38;5;28mself\u001b[39m\u001b[38;5;241m.\u001b[39mquarterly_balance_sheet \u001b[38;5;241m=\u001b[39m \u001b[38;5;28mself\u001b[39m\u001b[38;5;241m.\u001b[39mticker\u001b[38;5;241m.\u001b[39mquarterly_balance_sheet\n\u001b[1;32m      8\u001b[0m \u001b[38;5;28mself\u001b[39m\u001b[38;5;241m.\u001b[39mquarterly_cash_flow \u001b[38;5;241m=\u001b[39m \u001b[38;5;28mself\u001b[39m\u001b[38;5;241m.\u001b[39mticker\u001b[38;5;241m.\u001b[39mquarterly_cash_flow\n",
      "\u001b[0;31mAttributeError\u001b[0m: 'Ticker' object has no attribute 'quarterly_income_stmt'"
     ]
    }
   ],
   "source": [
    "msft = Stock(\"MSFT\")\n",
    "\n",
    "# msft.market_cap\n",
    "total_assets = msft.quarterly_balance_sheet.loc['Total Assets'][0]\n",
    "total_liabilities =msft.quarterly_balance_sheet.loc['Current Liabilities'][0]\n",
    "\n",
    "total_assets-total_liabilities"
   ]
  },
  {
   "cell_type": "markdown",
   "metadata": {},
   "source": [
    "### (2) Average 5Y annual Free Cash Flow <= 10%"
   ]
  },
  {
   "cell_type": "code",
   "execution_count": null,
   "metadata": {},
   "outputs": [],
   "source": [
    "ba = Stock(\"BA\")\n",
    "\n",
    "ba.ticker.get_cash_flow(freq='quarterly')"
   ]
  },
  {
   "cell_type": "markdown",
   "metadata": {},
   "source": [
    "### (3) Positive TTM Free-cashflow"
   ]
  },
  {
   "cell_type": "code",
   "execution_count": null,
   "metadata": {},
   "outputs": [],
   "source": [
    "\n",
    "cn = Stock(\"CNI\")\n",
    "operating_cash_flow_df = cn.ticker.quarterly_cash_flow.loc['Operating Cash Flow']\n",
    "capital_expendatures_df = cn.ticker.quarterly_cash_flow.loc['Capital Expenditure']\n",
    "df['TTM']"
   ]
  },
  {
   "cell_type": "markdown",
   "metadata": {},
   "source": [
    "### (4) Zero or negative net-debt"
   ]
  },
  {
   "cell_type": "code",
   "execution_count": null,
   "metadata": {},
   "outputs": [],
   "source": [
    "rbc = yf.Ticker(\"RY.TO\")\n",
    "rbc.quarterly_balance_sheet.head(2)"
   ]
  },
  {
   "cell_type": "markdown",
   "metadata": {},
   "source": [
    "### (5) Sum 5Y dividends or buybacks present"
   ]
  },
  {
   "cell_type": "code",
   "execution_count": null,
   "metadata": {},
   "outputs": [],
   "source": [
    "jpm = yf.Ticker(\"JPM\")\n",
    "dividend_df = jpm.history(period=\"5y\")[\"Dividends\"]\n",
    "\n",
    "dividends = dividend_df[dividend_df > 0].to_list()\n",
    "dividends_paid = (dividend_df > 0).sum()\n",
    "dividends"
   ]
  },
  {
   "cell_type": "markdown",
   "metadata": {},
   "source": [
    "### (6) Only companies from selected country HQs or exchanges"
   ]
  },
  {
   "cell_type": "code",
   "execution_count": null,
   "metadata": {},
   "outputs": [],
   "source": [
    "amzn = Stock(\"AMZN\")\n",
    "country = amzn.info['country']\n",
    "country"
   ]
  }
 ],
 "metadata": {
  "kernelspec": {
   "display_name": "Python 3",
   "language": "python",
   "name": "python3"
  },
  "language_info": {
   "codemirror_mode": {
    "name": "ipython",
    "version": 3
   },
   "file_extension": ".py",
   "mimetype": "text/x-python",
   "name": "python",
   "nbconvert_exporter": "python",
   "pygments_lexer": "ipython3",
   "version": "3.9.7"
  }
 },
 "nbformat": 4,
 "nbformat_minor": 2
}
